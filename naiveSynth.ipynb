{
 "cells": [
  {
   "cell_type": "code",
   "execution_count": null,
   "metadata": {},
   "outputs": [],
   "source": [
    "import librosa\n",
    "import numpy as np\n",
    "from numpy.fft import rfft\n",
    "from numpy import pi\n",
    "from matplotlib import pyplot as plt\n",
    "from IPython.display import Audio\n",
    "import cmath\n",
    "import scipy\n",
    "from cache_no_hash import cache\n",
    "from blindDescend import blindDescend\n",
    "from yin import yin\n",
    "from harmonicSynth import HarmonicSynth, Harmonic\n",
    "\n",
    "TWO_PI = np.pi * 2"
   ]
  },
  {
   "cell_type": "code",
   "execution_count": null,
   "metadata": {},
   "outputs": [],
   "source": [
    "PAGE_LEN = 1024\n",
    "SR = 22050\n",
    "DTYPE = np.float32\n",
    "N_HARMONICS = 8"
   ]
  },
  {
   "cell_type": "code",
   "execution_count": null,
   "metadata": {},
   "outputs": [],
   "source": [
    "HANN = scipy.signal.get_window('hann', PAGE_LEN, True)\n",
    "IMAGINARY_LADDER = np.linspace(0, TWO_PI * 1j, PAGE_LEN)\n",
    "SPECTRUM_SIZE = PAGE_LEN // 2 + 1\n",
    "NYQUIST = SR // 2"
   ]
  },
  {
   "cell_type": "code",
   "execution_count": null,
   "metadata": {},
   "outputs": [],
   "source": [
    "def sino(freq, length):\n",
    "    return np.sin(np.arange(length) * freq * TWO_PI / SR)\n",
    "\n",
    "def playHard(data):\n",
    "    return Audio(data, rate = SR)\n",
    "def play(data, soft = .1):\n",
    "    t = np.concatenate([data, [1]])\n",
    "    length = round(soft * SR)\n",
    "    t[:length ] = np.multiply(t[:length ], np.linspace(0, 1, length))\n",
    "    t[-length:] = np.multiply(t[-length:], np.linspace(1, 0, length))\n",
    "    return playHard(t)\n",
    "\n",
    "def findPeaks(energy):\n",
    "    slope = np.sign(energy[1:] - energy[:-1])\n",
    "    extrema = slope[1:] - slope[:-1]\n",
    "    return np.argpartition(\n",
    "        (extrema == -2) * energy[1:-1], - N_HARMONICS,\n",
    "    )[- N_HARMONICS:] + 1\n",
    "\n",
    "def sft(signal, freq_bin):\n",
    "    # Slow Fourier Transform\n",
    "    return np.abs(np.sum(signal * np.exp(IMAGINARY_LADDER * freq_bin))) / PAGE_LEN\n",
    "\n",
    "def refineGuess(guess, signal):\n",
    "    def loss(x):\n",
    "        if x < 0:\n",
    "            return 0\n",
    "        return - sft(signal, x)\n",
    "    freq_bin, loss = blindDescend(loss, .01, .4, guess)\n",
    "    return freq_bin * SR / PAGE_LEN, - loss\n",
    "\n",
    "def widePlot(h = 3, w = 12):\n",
    "    plt.gcf().set_size_inches(w, h)\n",
    "\n",
    "    \n",
    "def spectro(signal, do_wide = True, trim = 130):\n",
    "    energy = np.abs(rfft(signal * HANN))\n",
    "    plt.plot(energy[:trim])\n",
    "    if do_wide:\n",
    "        widePlot()\n",
    "\n",
    "def concatSynth(synth, harmonics, n):\n",
    "    buffer = []\n",
    "    for i in range(n):\n",
    "        synth.eat(harmonics)\n",
    "        buffer.append(synth.mix())\n",
    "    return np.concatenate(buffer)\n",
    "\n",
    "def pitch2freq(pitch):\n",
    "    return np.exp((pitch + 36.37631656229591) * 0.0577622650466621)\n",
    "\n",
    "def freq2pitch(f):\n",
    "    return np.log(f) * 17.312340490667562 - 36.37631656229591\n",
    "\n",
    "def pagesOf(signal):\n",
    "    for i in range(0, signal.size - PAGE_LEN + 1, PAGE_LEN):\n",
    "        yield signal[i : i + PAGE_LEN]\n"
   ]
  },
  {
   "cell_type": "code",
   "execution_count": null,
   "metadata": {},
   "outputs": [],
   "source": [
    "y, sr = librosa.load('freesound.wav')\n",
    "assert sr == SR"
   ]
  },
  {
   "cell_type": "code",
   "execution_count": null,
   "metadata": {},
   "outputs": [],
   "source": [
    "play(y)"
   ]
  },
  {
   "cell_type": "code",
   "execution_count": null,
   "metadata": {},
   "outputs": [],
   "source": [
    "def plotF0():\n",
    "    f = []\n",
    "    for p in pagesOf(y):\n",
    "        f0 = yin(p, sr, PAGE_LEN)\n",
    "        f.append(f0)\n",
    "    plt.plot(f)\n",
    "plotF0()\n",
    "print(yin(y, sr, len(y)))"
   ]
  },
  {
   "cell_type": "code",
   "execution_count": null,
   "metadata": {},
   "outputs": [],
   "source": [
    "SR / 372.4, SR / 372"
   ]
  },
  {
   "cell_type": "code",
   "execution_count": null,
   "metadata": {},
   "outputs": [],
   "source": [
    "N_FRAMES_PERIOD = 59\n",
    "plt.plot(y[len(y)//2:][:N_FRAMES_PERIOD])"
   ]
  },
  {
   "cell_type": "code",
   "execution_count": null,
   "metadata": {},
   "outputs": [],
   "source": [
    "def temporalIntegrate(signal):\n",
    "    return np.mean(np.abs(signal))\n",
    "print(temporalIntegrate(sino(SR // 4, SR)))\n",
    "print(temporalIntegrate(sino(SR // 8, SR)))\n",
    "print(temporalIntegrate(sino(SR // 4, SR) + sino(SR // 8, SR)))\n",
    "print(temporalIntegrate(sino(SR // 4, SR) + sino(SR // 4, SR)))"
   ]
  },
  {
   "cell_type": "markdown",
   "metadata": {},
   "source": [
    "It is only meaningful for same-timbre sounds. "
   ]
  },
  {
   "cell_type": "code",
   "execution_count": null,
   "metadata": {},
   "outputs": [],
   "source": [
    "def plotAmp():\n",
    "    A = []\n",
    "    for i in range(0, y.size - N_FRAMES_PERIOD + 1, N_FRAMES_PERIOD):\n",
    "        signal = y[i : i + N_FRAMES_PERIOD]\n",
    "        a = temporalIntegrate(signal)\n",
    "        A.append(a)\n",
    "    fig, (ax0, ax1) = plt.subplots(2, 1)\n",
    "    ax0.plot(A)\n",
    "    ax1.plot(A[:50])\n",
    "plotAmp()\n",
    "widePlot(5)"
   ]
  },
  {
   "cell_type": "code",
   "execution_count": null,
   "metadata": {},
   "outputs": [],
   "source": [
    "attack = 8 * N_FRAMES_PERIOD / SR\n",
    "attack"
   ]
  },
  {
   "cell_type": "code",
   "execution_count": null,
   "metadata": {},
   "outputs": [],
   "source": [
    "spectrum = np.abs(rfft(y))\n",
    "freq_bins = np.linspace(0, SR / 2, len(spectrum))\n",
    "def plotSpec(start_f = 0, end_f = SR // 2, trans = np.log, **kw):\n",
    "    start = round(start_f / (SR / 2) * len(spectrum))\n",
    "    end   = round(end_f   / (SR / 2) * len(spectrum))\n",
    "    plt.plot(freq_bins[start:end], trans(spectrum[start:end]), **kw)\n",
    "plotSpec()\n",
    "f0 = 373\n",
    "walls = [\n",
    "    *range(round(f0 * .5), f0 * 9, f0), \n",
    "    *range(round(f0 * 9.7), f0 * 15, round(f0 * 1.1)), \n",
    "    *range(round(f0 * 15.3), f0 * 28, round(f0 * 1.2)), \n",
    "]\n",
    "for f in walls:\n",
    "    plt.axvline(f, c='r')\n",
    "widePlot()"
   ]
  },
  {
   "cell_type": "code",
   "execution_count": null,
   "metadata": {},
   "outputs": [],
   "source": [
    "N_HARMONICS = len(walls) - 1\n",
    "N_HARMONICS"
   ]
  },
  {
   "cell_type": "code",
   "execution_count": null,
   "metadata": {},
   "outputs": [],
   "source": [
    "plotSpec(369, 372, trans=lambda x:x)\n",
    "5"
   ]
  },
  {
   "cell_type": "code",
   "execution_count": null,
   "metadata": {},
   "outputs": [],
   "source": [
    "plotSpec(741.4, 743.5, trans=lambda x:x)\n",
    "3"
   ]
  },
  {
   "cell_type": "code",
   "execution_count": null,
   "metadata": {},
   "outputs": [],
   "source": [
    "plotSpec(4205, 4214, trans=lambda x:x)"
   ]
  },
  {
   "cell_type": "code",
   "execution_count": null,
   "metadata": {},
   "outputs": [],
   "source": [
    "def findPeaks(diameter = 5):\n",
    "    radius = (diameter - 1) // 2\n",
    "    freqs    = []\n",
    "    energies = []\n",
    "    for left, right in zip(walls[:-1], walls[1:]):\n",
    "        max_e = 0\n",
    "        max_i = None\n",
    "        left_i  = round(left  / (SR / 2) * len(spectrum))\n",
    "        right_i = round(right / (SR / 2) * len(spectrum))\n",
    "        for i, energy in enumerate(spectrum[left_i:right_i]):\n",
    "            if energy > max_e:\n",
    "                max_e = energy\n",
    "                max_i = i\n",
    "        freqs.append(\n",
    "            freq_bins[left_i + max_i]\n",
    "        )\n",
    "        energies.append(\n",
    "            np.sqrt(np.sum(spectrum[left_i:][\n",
    "                max_i - radius : max_i + radius + 1\n",
    "            ] ** 2))\n",
    "        )\n",
    "    return freqs, energies\n",
    "def benchmark():\n",
    "    freqs, energies = findPeaks()\n",
    "    plotSpec()\n",
    "    plt.plot(freqs, np.log(energies), c='r')\n",
    "benchmark()"
   ]
  },
  {
   "cell_type": "code",
   "execution_count": null,
   "metadata": {},
   "outputs": [],
   "source": [
    "from scipy.interpolate import interp1d\n",
    "def getEnvelope():\n",
    "    freqs, energies = findPeaks()\n",
    "    f = interp1d([0, *freqs], [energies[0] ,*energies])\n",
    "    def envelope(x):\n",
    "        try:\n",
    "            return f(x)\n",
    "        except ValueError:\n",
    "            return 0\n",
    "    return envelope\n",
    "envelope = getEnvelope()\n",
    "def benchmarkEnv(trans = np.log):\n",
    "    plotSpec(trans = trans)\n",
    "    plt.plot(freq_bins, trans([envelope(x) for x in freq_bins]))\n",
    "# benchmarkEnv(lambda x:x)\n",
    "benchmarkEnv()"
   ]
  },
  {
   "cell_type": "code",
   "execution_count": null,
   "metadata": {},
   "outputs": [],
   "source": [
    "from harmonicSynth import HarmonicSynth, Harmonic"
   ]
  },
  {
   "cell_type": "code",
   "execution_count": null,
   "metadata": {},
   "outputs": [],
   "source": [
    "assert attack * SR < PAGE_LEN\n",
    "attack * SR, PAGE_LEN"
   ]
  },
  {
   "cell_type": "code",
   "execution_count": null,
   "metadata": {},
   "outputs": [],
   "source": [
    "def natureHarmonics(f0):\n",
    "    return np.arange(N_HARMONICS) * f0\n",
    "def synth(f, t = 2, decayRate = 1, harmo_way = natureHarmonics):\n",
    "    n_pages = round(t * SR / PAGE_LEN)\n",
    "    amp_env = np.exp(np.linspace(0, - t * decayRate, n_pages * PAGE_LEN))\n",
    "    attack_frames = round(attack * SR)\n",
    "    amp_env[:attack_frames] = np.linspace(\n",
    "        0, amp_env[attack_frames - 1], attack_frames, \n",
    "    )\n",
    "    hS = HarmonicSynth(N_HARMONICS, SR, PAGE_LEN, np.float32, True, False)\n",
    "    harmonics = [Harmonic(f, envelope(f)) for f in harmo_way(f0)]\n",
    "    hS.eat(harmonics)\n",
    "    hS.mix()\n",
    "    buffer = []\n",
    "    for page_i in range(n_pages):\n",
    "        hS.eat(harmonics)\n",
    "        buffer.append(hS.mix())\n",
    "    signal = np.concatenate(buffer)\n",
    "    return signal * amp_env"
   ]
  },
  {
   "cell_type": "code",
   "execution_count": null,
   "metadata": {},
   "outputs": [],
   "source": [
    "playHard(synth(f0, t = len(y) / SR, decayRate=1.5))"
   ]
  },
  {
   "cell_type": "code",
   "execution_count": null,
   "metadata": {},
   "outputs": [],
   "source": [
    "playHard(y)"
   ]
  },
  {
   "cell_type": "markdown",
   "metadata": {},
   "source": [
    "Including the harmonic drift..."
   ]
  },
  {
   "cell_type": "code",
   "execution_count": null,
   "metadata": {},
   "outputs": [],
   "source": [
    "def weirdHarmo(_):\n",
    "    freqs, _ = findPeaks()\n",
    "    return freqs\n",
    "playHard(synth(f0, t = len(y) / SR, decayRate=1.5, harmo_way = weirdHarmo))"
   ]
  },
  {
   "cell_type": "markdown",
   "metadata": {},
   "source": [
    "Attack and harmonics decay/swing are not good. "
   ]
  }
 ],
 "metadata": {
  "kernelspec": {
   "display_name": "Python 3",
   "language": "python",
   "name": "python3"
  },
  "language_info": {
   "codemirror_mode": {
    "name": "ipython",
    "version": 3
   },
   "file_extension": ".py",
   "mimetype": "text/x-python",
   "name": "python",
   "nbconvert_exporter": "python",
   "pygments_lexer": "ipython3",
   "version": "3.6.10"
  }
 },
 "nbformat": 4,
 "nbformat_minor": 2
}
