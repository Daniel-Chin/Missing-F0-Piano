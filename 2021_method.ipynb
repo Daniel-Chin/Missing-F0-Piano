{
 "cells": [
  {
   "cell_type": "code",
   "execution_count": null,
   "metadata": {},
   "outputs": [],
   "source": [
    "import librosa\n",
    "import numpy as np\n",
    "from numpy.fft import rfft\n",
    "from numpy import pi\n",
    "from matplotlib import pyplot as plt\n",
    "from IPython.display import Audio\n",
    "import cmath\n",
    "import scipy\n",
    "\n",
    "TWO_PI = np.pi * 2"
   ]
  },
  {
   "cell_type": "code",
   "execution_count": null,
   "metadata": {},
   "outputs": [],
   "source": [
    "PAGE_LEN = 1024\n",
    "SR = 22050\n",
    "DTYPE = np.float32"
   ]
  },
  {
   "cell_type": "code",
   "execution_count": null,
   "metadata": {},
   "outputs": [],
   "source": [
    "HANN = scipy.signal.get_window('hann', PAGE_LEN, True)\n",
    "IMAGINARY_LADDER = np.linspace(0, TWO_PI * 1j, PAGE_LEN)\n",
    "SPECTRUM_SIZE = PAGE_LEN // 2 + 1\n",
    "NYQUIST = SR // 2"
   ]
  },
  {
   "cell_type": "code",
   "execution_count": null,
   "metadata": {},
   "outputs": [],
   "source": [
    "def sino(freq, length):\n",
    "    return np.sin(np.arange(length) * freq * TWO_PI / SR)\n",
    "\n",
    "def playHard(data):\n",
    "    return Audio(data, rate = SR)\n",
    "def play(data, soft = .1):\n",
    "    t = np.concatenate([data, [1]])\n",
    "    length = round(soft * SR)\n",
    "    t[:length ] = np.multiply(t[:length ], np.linspace(0, 1, length))\n",
    "    t[-length:] = np.multiply(t[-length:], np.linspace(1, 0, length))\n",
    "    return playHard(t)\n",
    "\n",
    "def sft(signal, freq_bin):\n",
    "    # Slow Fourier Transform\n",
    "    return np.abs(np.sum(signal * np.exp(IMAGINARY_LADDER * freq_bin))) / PAGE_LEN\n",
    "\n",
    "def widePlot(h = 3, w = 12):\n",
    "    plt.gcf().set_size_inches(w, h)\n",
    "    \n",
    "def spectro(signal, do_wide = True, trim = 130):\n",
    "    energy = np.abs(rfft(signal * HANN))\n",
    "    plt.plot(energy[:trim])\n",
    "    if do_wide:\n",
    "        widePlot()\n",
    "\n",
    "def concatSynth(synth, harmonics, n):\n",
    "    buffer = []\n",
    "    for i in range(n):\n",
    "        synth.eat(harmonics)\n",
    "        buffer.append(synth.mix())\n",
    "    return np.concatenate(buffer)\n",
    "\n",
    "def pitch2freq(pitch):\n",
    "    return np.exp((pitch + 36.37631656229591) * 0.0577622650466621)\n",
    "\n",
    "def freq2pitch(f):\n",
    "    return np.log(f) * 17.312340490667562 - 36.37631656229591\n",
    "\n",
    "def pagesOf(signal):\n",
    "    for i in range(0, signal.size - PAGE_LEN + 1, PAGE_LEN):\n",
    "        yield signal[i : i + PAGE_LEN]\n"
   ]
  },
  {
   "cell_type": "code",
   "execution_count": null,
   "metadata": {},
   "outputs": [],
   "source": [
    "from time import sleep\n",
    "import mido"
   ]
  },
  {
   "cell_type": "code",
   "execution_count": null,
   "metadata": {},
   "outputs": [],
   "source": [
    "mido.get_output_names()"
   ]
  },
  {
   "cell_type": "code",
   "execution_count": null,
   "metadata": {},
   "outputs": [],
   "source": [
    "port = mido.open_output(\n",
    "    # 'CASIO USB-MIDI 2', \n",
    "    'ARIUS:ARIUS MIDI 1', \n",
    ")\n",
    "port"
   ]
  },
  {
   "cell_type": "code",
   "execution_count": null,
   "metadata": {},
   "outputs": [],
   "source": [
    "port.send(mido.Message('note_on', note=60))"
   ]
  },
  {
   "cell_type": "code",
   "execution_count": null,
   "metadata": {},
   "outputs": [],
   "source": [
    "# port.send(mido.Message('note_off', note=60))\n",
    "port.panic()"
   ]
  },
  {
   "cell_type": "code",
   "execution_count": null,
   "metadata": {},
   "outputs": [],
   "source": [
    "hb = [\n",
    "    0, 0, 2, None, 0, None, 5, None, 4, None, None, None, \n",
    "    0, 0, 2, None, 0, None, 7, None, 5, None, None, None, \n",
    "    0, 0, 12, None, 9, None, 5, None, 4, None, 2, None, \n",
    "    10, 10, 9, None, 5, None, 7, None, 5, None, None, None,     \n",
    "]"
   ]
  },
  {
   "cell_type": "code",
   "execution_count": null,
   "metadata": {},
   "outputs": [],
   "source": [
    "def identity(x): return x\n",
    "\n",
    "def playSong(song, interval = .2, middle = 55, func = identity):\n",
    "    for note in song:\n",
    "        if note is not None:\n",
    "            func(note + middle)\n",
    "        sleep(interval)\n",
    "    port.panic()"
   ]
  },
  {
   "cell_type": "code",
   "execution_count": null,
   "metadata": {},
   "outputs": [],
   "source": [
    "port.panic()"
   ]
  },
  {
   "cell_type": "code",
   "execution_count": null,
   "metadata": {},
   "outputs": [],
   "source": [
    "playSong(hb)"
   ]
  },
  {
   "cell_type": "markdown",
   "metadata": {},
   "source": [
    "## math"
   ]
  },
  {
   "cell_type": "code",
   "execution_count": null,
   "metadata": {},
   "outputs": [],
   "source": [
    "from scipy.optimize import minimize\n",
    "import numpy as np\n",
    "from matplotlib import pyplot as plt"
   ]
  },
  {
   "cell_type": "code",
   "execution_count": null,
   "metadata": {},
   "outputs": [],
   "source": [
    "def getProduced(powers, n_partials):\n",
    "    produced = np.zeros((n_partials, ))\n",
    "    for i, power in enumerate(powers):\n",
    "        n = i + 2\n",
    "        for j in range(n, n_partials, n):\n",
    "            produced[j] += power\n",
    "    return produced\n",
    "def loss(powers, n_partials):\n",
    "    produced = getProduced(powers, n_partials)[2:]\n",
    "    if 0 in produced:\n",
    "        return np.inf\n",
    "    return np.sum(np.square(np.log(produced)))"
   ]
  },
  {
   "cell_type": "code",
   "execution_count": null,
   "metadata": {},
   "outputs": [],
   "source": [
    "def optim(n_partials, n_seeds = 100):\n",
    "    results = []\n",
    "    for _ in range(n_seeds):\n",
    "        guess = np.random.rand(n_partials - 2)\n",
    "        result = minimize(\n",
    "            loss, guess, \n",
    "            args = (n_partials, ), \n",
    "            bounds = [(0, None)] * len(guess), \n",
    "        )\n",
    "        results.append((result.fun, result.x))\n",
    "    results = sorted(results, key=lambda x:x[0])[:round(.1 * n_seeds)]\n",
    "    for y, x in results:\n",
    "        plt.plot(x)\n",
    "    widePlot()\n",
    "    plt.show()\n",
    "    return results"
   ]
  },
  {
   "cell_type": "code",
   "execution_count": null,
   "metadata": {},
   "outputs": [],
   "source": [
    "results = optim(50)"
   ]
  },
  {
   "cell_type": "code",
   "execution_count": null,
   "metadata": {},
   "outputs": [],
   "source": [
    "losses = [x[0] for x in results]\n",
    "losses\n",
    "# plt.plot(losses)\n",
    "# plt.ylim(bottom=0)\n",
    "# plt.show()"
   ]
  },
  {
   "cell_type": "code",
   "execution_count": null,
   "metadata": {},
   "outputs": [],
   "source": [
    "from prime import getPrimesFrom3"
   ]
  },
  {
   "cell_type": "code",
   "execution_count": null,
   "metadata": {},
   "outputs": [],
   "source": [
    "getPrimesFrom3(15)"
   ]
  },
  {
   "cell_type": "code",
   "execution_count": null,
   "metadata": {},
   "outputs": [],
   "source": [
    "def present(results, n_partials):\n",
    "    y, x = results[0]\n",
    "    print('y', y)\n",
    "    print('x')\n",
    "    print(x)\n",
    "    for prime in [2, *getPrimesFrom3(n_partials)]:\n",
    "        plt.axvline(prime, c='r')\n",
    "    plt.plot([0, 0, *x])\n",
    "    plt.plot(getProduced(x, n_partials))\n",
    "    widePlot()"
   ]
  },
  {
   "cell_type": "code",
   "execution_count": null,
   "metadata": {},
   "outputs": [],
   "source": [
    "n_partials=50\n",
    "results_50 = optim(n_partials, 10)\n",
    "present(results_50, n_partials)\n",
    "print('50 loss', loss(results_50[0][1], n_partials))"
   ]
  },
  {
   "cell_type": "code",
   "execution_count": null,
   "metadata": {},
   "outputs": [],
   "source": [
    "n_partials=100\n",
    "results_100 = optim(n_partials, 10)\n",
    "present(results_100, n_partials)\n",
    "print('50 loss', loss(results_100[0][1], 50))"
   ]
  },
  {
   "cell_type": "code",
   "execution_count": null,
   "metadata": {},
   "outputs": [],
   "source": [
    "golden = results_50[0][1]\n",
    "golden.size"
   ]
  },
  {
   "cell_type": "code",
   "execution_count": null,
   "metadata": {},
   "outputs": [],
   "source": [
    "import random\n",
    "\n",
    "import pretty_midi"
   ]
  },
  {
   "cell_type": "code",
   "execution_count": null,
   "metadata": {},
   "outputs": [],
   "source": [
    "def computeOneGoldenNote(\n",
    "    pitch, velocity = 64, n_partials = 50, \n",
    "    max_pitch = 127, \n",
    "):\n",
    "    results = []\n",
    "#     for i in reversed(range(2, N)):\n",
    "    for partial_i in range(2, n_partials):\n",
    "        delta_pitch = np.log(partial_i) * 17.312340490667562  # freq 2 pitch\n",
    "        round_d_pitch = round(delta_pitch)\n",
    "        played_pitch = pitch + round_d_pitch\n",
    "        if played_pitch > max_pitch:\n",
    "            continue\n",
    "        residual = delta_pitch - round_d_pitch\n",
    "        freq_err_adj = np.exp(- abs(residual) * 7)\n",
    "        if pitch + round_d_pitch > 95:\n",
    "            freq_err_adj *= .2\n",
    "#         sub_energy = golden[i - 2] * velocity ** 2\n",
    "#         adj_velocity = round((sub_energy * freq_err_adj) ** .5)\n",
    "        sub_energy = golden[partial_i - 2] * velocity\n",
    "        adj_velocity = round((sub_energy * freq_err_adj))\n",
    "        if adj_velocity != 0:\n",
    "            results.append((played_pitch, adj_velocity))\n",
    "    return results"
   ]
  },
  {
   "cell_type": "code",
   "execution_count": null,
   "metadata": {},
   "outputs": [],
   "source": [
    "def oneGoldenNote(pitch, velocity = 64, N = 50):\n",
    "    port.panic()\n",
    "    results = computeOneGoldenNote(pitch, velocity, N)\n",
    "    random.shuffle(results)\n",
    "    [port.send(mido.Message(\n",
    "        'note_on', note=p, velocity=v, \n",
    "    )) for p, v in results]\n"
   ]
  },
  {
   "cell_type": "code",
   "execution_count": null,
   "metadata": {},
   "outputs": [],
   "source": [
    "port.panic()\n",
    "oneGoldenNote(48)"
   ]
  },
  {
   "cell_type": "code",
   "execution_count": null,
   "metadata": {},
   "outputs": [],
   "source": [
    "port.panic()"
   ]
  },
  {
   "cell_type": "code",
   "execution_count": null,
   "metadata": {},
   "outputs": [],
   "source": [
    "playSong(hb, interval = .15, middle = 48, func = oneGoldenNote)"
   ]
  },
  {
   "cell_type": "markdown",
   "metadata": {},
   "source": [
    "Midi file"
   ]
  },
  {
   "cell_type": "code",
   "execution_count": null,
   "metadata": {},
   "outputs": [],
   "source": [
    "def writeMidiBenchmark(\n",
    "    pitch = 52, velocity = 127, interval = 0.4, padding = 0.1,\n",
    "):\n",
    "    mid = pretty_midi.PrettyMIDI()\n",
    "    piano = pretty_midi.Instrument(0)\n",
    "    mid.instruments.append(piano)\n",
    "    cursor = 0.0\n",
    "    piano.notes.append(pretty_midi.Note(\n",
    "        pitch = pitch + 12,\n",
    "        velocity = velocity,\n",
    "        start = cursor, \n",
    "        end = cursor + interval, \n",
    "    ))\n",
    "    cursor += interval + padding\n",
    "\n",
    "    results = computeOneGoldenNote(pitch, velocity)\n",
    "    print(*results, sep='\\n')\n",
    "    for p, v in results:\n",
    "        piano.notes.append(pretty_midi.Note(\n",
    "            pitch = p,\n",
    "            velocity = v,\n",
    "            start = cursor, \n",
    "            end = cursor + interval, \n",
    "        ))\n",
    "    cursor += interval + padding\n",
    "    \n",
    "    mid.write('./temp/baseline.mid')\n",
    "writeMidiBenchmark()"
   ]
  }
 ],
 "metadata": {
  "kernelspec": {
   "display_name": "Python 3",
   "language": "python",
   "name": "python3"
  },
  "language_info": {
   "codemirror_mode": {
    "name": "ipython",
    "version": 3
   },
   "file_extension": ".py",
   "mimetype": "text/x-python",
   "name": "python",
   "nbconvert_exporter": "python",
   "pygments_lexer": "ipython3",
   "version": "3.12.2"
  }
 },
 "nbformat": 4,
 "nbformat_minor": 2
}
