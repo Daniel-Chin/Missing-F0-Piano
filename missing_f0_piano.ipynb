{
 "cells": [
  {
   "cell_type": "code",
   "execution_count": null,
   "metadata": {},
   "outputs": [],
   "source": [
    "import librosa\n",
    "import numpy as np\n",
    "from numpy.fft import rfft\n",
    "from numpy import pi\n",
    "from matplotlib import pyplot as plt\n",
    "from IPython.display import Audio\n",
    "import cmath\n",
    "import scipy\n",
    "from cache_no_hash import cache\n",
    "from blindDescend import blindDescend\n",
    "from yin import yin\n",
    "from harmonicSynth import HarmonicSynth, Harmonic\n",
    "\n",
    "TWO_PI = np.pi * 2"
   ]
  },
  {
   "cell_type": "code",
   "execution_count": null,
   "metadata": {},
   "outputs": [],
   "source": [
    "PAGE_LEN = 1024\n",
    "SR = 22050\n",
    "DTYPE = np.float32\n",
    "N_HARMONICS = 8"
   ]
  },
  {
   "cell_type": "code",
   "execution_count": null,
   "metadata": {},
   "outputs": [],
   "source": [
    "HANN = scipy.signal.get_window('hann', PAGE_LEN, True)\n",
    "IMAGINARY_LADDER = np.linspace(0, TWO_PI * 1j, PAGE_LEN)\n",
    "SPECTRUM_SIZE = PAGE_LEN // 2 + 1\n",
    "NYQUIST = SR // 2"
   ]
  },
  {
   "cell_type": "code",
   "execution_count": null,
   "metadata": {},
   "outputs": [],
   "source": [
    "def sino(freq, length):\n",
    "    return np.sin(np.arange(length) * freq * TWO_PI / SR)\n",
    "\n",
    "def playHard(data):\n",
    "    return Audio(data, rate = SR)\n",
    "def play(data, soft = .1):\n",
    "    t = np.concatenate([data, [1]])\n",
    "    length = round(soft * SR)\n",
    "    t[:length ] = np.multiply(t[:length ], np.linspace(0, 1, length))\n",
    "    t[-length:] = np.multiply(t[-length:], np.linspace(1, 0, length))\n",
    "    return playHard(t)\n",
    "\n",
    "def findPeaks(energy):\n",
    "    slope = np.sign(energy[1:] - energy[:-1])\n",
    "    extrema = slope[1:] - slope[:-1]\n",
    "    return np.argpartition(\n",
    "        (extrema == -2) * energy[1:-1], - N_HARMONICS,\n",
    "    )[- N_HARMONICS:] + 1\n",
    "\n",
    "def sft(signal, freq_bin):\n",
    "    # Slow Fourier Transform\n",
    "    return np.abs(np.sum(signal * np.exp(IMAGINARY_LADDER * freq_bin))) / PAGE_LEN\n",
    "\n",
    "def refineGuess(guess, signal):\n",
    "    def loss(x):\n",
    "        if x < 0:\n",
    "            return 0\n",
    "        return - sft(signal, x)\n",
    "    freq_bin, loss = blindDescend(loss, .01, .4, guess)\n",
    "    return freq_bin * SR / PAGE_LEN, - loss\n",
    "\n",
    "def widePlot(h = 3, w = 12):\n",
    "    plt.gcf().set_size_inches(w, h)\n",
    "\n",
    "    \n",
    "def spectro(signal, do_wide = True, trim = 130):\n",
    "    energy = np.abs(rfft(signal * HANN))\n",
    "    plt.plot(energy[:trim])\n",
    "    if do_wide:\n",
    "        widePlot()\n",
    "\n",
    "def concatSynth(synth, harmonics, n):\n",
    "    buffer = []\n",
    "    for i in range(n):\n",
    "        synth.eat(harmonics)\n",
    "        buffer.append(synth.mix())\n",
    "    return np.concatenate(buffer)\n",
    "\n",
    "def pitch2freq(pitch):\n",
    "    return np.exp((pitch + 36.37631656229591) * 0.0577622650466621)\n",
    "\n",
    "def freq2pitch(f):\n",
    "    return np.log(f) * 17.312340490667562 - 36.37631656229591\n",
    "\n",
    "def pagesOf(signal):\n",
    "    for i in range(0, signal.size - PAGE_LEN + 1, PAGE_LEN):\n",
    "        yield signal[i : i + PAGE_LEN]\n"
   ]
  },
  {
   "cell_type": "code",
   "execution_count": null,
   "metadata": {},
   "outputs": [],
   "source": [
    "from time import sleep\n",
    "import mido"
   ]
  },
  {
   "cell_type": "code",
   "execution_count": null,
   "metadata": {},
   "outputs": [],
   "source": [
    "mido.get_output_names()"
   ]
  },
  {
   "cell_type": "code",
   "execution_count": null,
   "metadata": {},
   "outputs": [],
   "source": [
    "port = mido.open_output(\n",
    "    'CASIO USB-MIDI 2', \n",
    ")\n",
    "port"
   ]
  },
  {
   "cell_type": "code",
   "execution_count": null,
   "metadata": {},
   "outputs": [],
   "source": [
    "port.send(mido.Message('note_on', note=60))"
   ]
  },
  {
   "cell_type": "code",
   "execution_count": null,
   "metadata": {},
   "outputs": [],
   "source": [
    "# port.send(mido.Message('note_off', note=60))\n",
    "port.panic()"
   ]
  },
  {
   "cell_type": "code",
   "execution_count": null,
   "metadata": {},
   "outputs": [],
   "source": [
    "v = [64] * 50\n",
    "v[2] = 32  # C5\n",
    "v[3] = 30  # G5\n",
    "v[4] = 64  # C6\n",
    "v[5] = 64  # E6\n",
    "A = 6\n",
    "B = 15\n",
    "C = 10\n",
    "for i in range(A, B):\n",
    "    v[i] = round(64 - (64 - C) / (B - A) * (i - A))\n",
    "for i in range(B, 50):\n",
    "    v[i] = C\n",
    "print(v)\n",
    "def oneNote(pitch):\n",
    "    port.panic()\n",
    "    msgs = []\n",
    "    for i in range(2, 40):\n",
    "#     for i in range(39, 1, -1):\n",
    "#     for i in range(2, 7):\n",
    "#     for i in range(6, 1, -1):\n",
    "        delta = np.log(i) * 17.312340490667562\n",
    "        d = round(delta)\n",
    "        if pitch + d > 127:\n",
    "            continue\n",
    "        err = delta - d\n",
    "#         print(f'{round(err * 100)}%')\n",
    "        _v = round((.5 - abs(err)) * 2 * v[i])\n",
    "        msgs.append(mido.Message(\n",
    "            'note_on', note=pitch + d, \n",
    "#             velocity=min(127, round(\n",
    "#                 100/max(1, (i+3))\n",
    "#             )), \n",
    "#             velocity=64, \n",
    "            velocity=_v, \n",
    "        ))\n",
    "    [port.send(m) for m in msgs]\n",
    "\n",
    "port.panic()\n",
    "oneNote(60)"
   ]
  },
  {
   "cell_type": "code",
   "execution_count": null,
   "metadata": {},
   "outputs": [],
   "source": [
    "hb = [\n",
    "    0, 0, 2, None, 0, None, 5, None, 4, None, None, None, \n",
    "    0, 0, 2, None, 0, None, 7, None, 5, None, None, None, \n",
    "    0, 0, 12, None, 9, None, 5, None, 4, None, 2, None, \n",
    "    10, 10, 9, None, 5, None, 7, None, 5, None, None, None,     \n",
    "]"
   ]
  },
  {
   "cell_type": "code",
   "execution_count": null,
   "metadata": {},
   "outputs": [],
   "source": [
    "def playSong(song, interval = .2, middle = 55, func = oneNote):\n",
    "    for note in song:\n",
    "        if note is not None:\n",
    "            func(note + middle)\n",
    "        sleep(interval)\n",
    "    port.panic()"
   ]
  },
  {
   "cell_type": "code",
   "execution_count": null,
   "metadata": {},
   "outputs": [],
   "source": [
    "port.panic()"
   ]
  },
  {
   "cell_type": "code",
   "execution_count": null,
   "metadata": {},
   "outputs": [],
   "source": [
    "playSong(hb)"
   ]
  },
  {
   "cell_type": "code",
   "execution_count": null,
   "metadata": {},
   "outputs": [],
   "source": [
    "# from mido import Message, MidiFile, MidiTrack\n",
    "# mid = MidiFile()\n",
    "# track = MidiTrack()\n",
    "# mid.tracks.append(track)\n",
    "\n",
    "# track.append(Message('program_change', program=12, time=0))\n",
    "# track.append(Message('note_on', note=64, velocity=64, time=32))\n",
    "# track.append(Message('note_off', note=64, velocity=127, time=64))\n",
    "\n",
    "# mid.save('new_song.mid')"
   ]
  },
  {
   "cell_type": "markdown",
   "metadata": {},
   "source": [
    "## math"
   ]
  },
  {
   "cell_type": "code",
   "execution_count": null,
   "metadata": {},
   "outputs": [],
   "source": [
    "from scipy.optimize import minimize\n",
    "import numpy as np\n",
    "from matplotlib import pyplot as plt"
   ]
  },
  {
   "cell_type": "code",
   "execution_count": null,
   "metadata": {},
   "outputs": [],
   "source": [
    "def getBins(x, N):\n",
    "    bins = np.zeros((N, ))\n",
    "    for i, e in enumerate(x):\n",
    "        n = i + 2\n",
    "        for j in range(n, N, n):\n",
    "            bins[j] += e\n",
    "    return bins\n",
    "def loss(x, N):\n",
    "    bins = getBins(x, N)[2:]\n",
    "    if 0 in bins:\n",
    "        return np.inf\n",
    "    return np.sum(np.square(np.log(bins)))"
   ]
  },
  {
   "cell_type": "code",
   "execution_count": null,
   "metadata": {},
   "outputs": [],
   "source": [
    "def optim(N, n_seeds = 100):\n",
    "    results = []\n",
    "    for i in range(n_seeds):\n",
    "        result = minimize(loss, np.random.rand(N - 2), (N, ), bounds = [(0, None)] * (N - 2))\n",
    "        results.append((result.fun, result.x))\n",
    "    results = sorted(results, key=lambda x:x[0])[:round(.1 * n_seeds)]\n",
    "    for y, x in results:\n",
    "        plt.plot(x)\n",
    "    widePlot()\n",
    "    plt.show()\n",
    "    return results"
   ]
  },
  {
   "cell_type": "code",
   "execution_count": null,
   "metadata": {},
   "outputs": [],
   "source": [
    "from prime import getPrimesFrom3"
   ]
  },
  {
   "cell_type": "code",
   "execution_count": null,
   "metadata": {},
   "outputs": [],
   "source": [
    "getPrimesFrom3(15)"
   ]
  },
  {
   "cell_type": "code",
   "execution_count": null,
   "metadata": {},
   "outputs": [],
   "source": [
    "def present(results, N):\n",
    "    print('y', results[0][0])\n",
    "    print('x')\n",
    "    print(results[0][1])\n",
    "    for prime in [2, *getPrimesFrom3(N)]:\n",
    "        plt.axvline(prime, c='r')\n",
    "    plt.plot([0, 0, *results[0][1]])\n",
    "    plt.plot(getBins(results[0][1], N))\n",
    "    widePlot()"
   ]
  },
  {
   "cell_type": "code",
   "execution_count": null,
   "metadata": {},
   "outputs": [],
   "source": [
    "N=50\n",
    "results_50 = optim(N)\n",
    "present(results_50, N)\n",
    "print('50 loss', loss(results_50[0][1], N))"
   ]
  },
  {
   "cell_type": "code",
   "execution_count": null,
   "metadata": {},
   "outputs": [],
   "source": [
    "N=100\n",
    "results_100 = optim(N)\n",
    "present(results_100, N)\n",
    "print('50 loss', loss(results_100[0][1], 50))"
   ]
  },
  {
   "cell_type": "code",
   "execution_count": null,
   "metadata": {},
   "outputs": [],
   "source": [
    "golden = results_50[0][1]\n",
    "golden.size"
   ]
  },
  {
   "cell_type": "code",
   "execution_count": null,
   "metadata": {},
   "outputs": [],
   "source": [
    "def oneGoldenNote(pitch, velocity = 64, N = 50):\n",
    "    port.panic()\n",
    "    msgs = []\n",
    "    for i in range(2, N):\n",
    "        delta = np.log(i) * 17.312340490667562\n",
    "        d = round(delta)\n",
    "        if pitch + d > 127:\n",
    "            continue\n",
    "        err = delta - d\n",
    "        freq_err_adj = np.exp(- abs(err) * 7)\n",
    "        sub_energy = golden[i - 2] * velocity ** 2\n",
    "        adj_velocity = round((sub_energy * freq_err_adj) ** .5)\n",
    "        msgs.append(mido.Message(\n",
    "            'note_on', note=pitch + d, velocity=adj_velocity, \n",
    "        ))\n",
    "    [port.send(m) for m in msgs]\n",
    "\n",
    "port.panic()\n",
    "oneGoldenNote(48)"
   ]
  },
  {
   "cell_type": "code",
   "execution_count": null,
   "metadata": {},
   "outputs": [],
   "source": [
    "port.panic()"
   ]
  },
  {
   "cell_type": "code",
   "execution_count": null,
   "metadata": {},
   "outputs": [],
   "source": [
    "playSong(hb, interval = .2, middle = 48, func = oneGoldenNote)"
   ]
  }
 ],
 "metadata": {
  "kernelspec": {
   "display_name": "Python 3",
   "language": "python",
   "name": "python3"
  },
  "language_info": {
   "codemirror_mode": {
    "name": "ipython",
    "version": 3
   },
   "file_extension": ".py",
   "mimetype": "text/x-python",
   "name": "python",
   "nbconvert_exporter": "python",
   "pygments_lexer": "ipython3",
   "version": "3.6.10"
  }
 },
 "nbformat": 4,
 "nbformat_minor": 2
}
